{
 "cells": [
  {
   "cell_type": "code",
   "execution_count": 1,
   "metadata": {
    "NotebookApp": {
     "iopub_data_rate_limit": 200000000000000000000
    },
    "ServerApp": {
     "iopub_data_rate_limit": 200000000000000000000
    },
    "voila": {
     "theme": "dark"
    }
   },
   "outputs": [],
   "source": [
    "# Metadata included\n",
    "from fastai.vision.all import *\n",
    "from fastai.vision.widgets import *\n",
    "from fastai.layers import *\n"
   ]
  },
  {
   "cell_type": "markdown",
   "metadata": {},
   "source": [
    "# The Amazing Bear Classifier!"
   ]
  },
  {
   "cell_type": "markdown",
   "metadata": {},
   "source": [
    "You need to know whether you're being chased by a dangerous grizzly, or a sweet teddy bear, and you need an answer *fast*? Then you've come to the right place. Take a pic of the potentially vicious killer, and click 'upload' to classify it. (Important: this only handles grizzly bears, black bears, and teddy bears. It will **not** give a sensible answer for polar bears, a bear market, a bear of a man, or hot dogs.\n",
    "\n",
    "----"
   ]
  },
  {
   "cell_type": "code",
   "execution_count": 2,
   "metadata": {},
   "outputs": [],
   "source": [
    "# Instruções de como resolver o travamento do file upload em\n",
    "# https://github.com/jupyter-widgets/ipywidgets/issues/2522\n",
    "\n",
    "# jupyter classic funcionou\n",
    "# jupyter notebook --config=\"/Users/aolchik/.jupyter/jupyter_notebook_config.py\" bear_classifier.ipynb\n",
    "\n",
    "# resolver com VSCode (ainda não funcionando)\n",
    "# resolver com Voila\n",
    "#   voila --Voila.tornado_settings='{\"websocket_max_message_size\": 104857600}' bear_classifier.ipynb\n",
    "#   voila bear_classifier.ipynb --Voila.tornado_settings=\"{'websocket_max_message_size': 209715200}\"\n",
    "#   voila bear_classifier.ipynb --tornado_settings websocket_max_message_size=209715200\n",
    "#   voila bear_classifier.ipynb --VoilaConfiguration.tornado_settings=\"{'websocket_max_message_size': 209715200}\"\n",
    "# pesquisar: voila FileUpload does not work\n",
    "# try streamlit https://docs.streamlit.io/\n",
    "# try Solara\n",
    "#   https://itnext.io/webapps-in-python-with-solara-a-streamlit-killer-ab6fcc7bf5d7\n",
    "#   https://github.com/widgetti/solara\n",
    "#   https://solara.dev/\n",
    "#   How to run Solara from command line?\n",
    "#     voila <notebook>\n",
    "#   Does Solara has a file upload widget?\n",
    "#     No, but you can use the one from ipywidgets.\n",
    "#   Trying to render content generates a rate limiting error\n",
    "#     Trying to setup rate limiting variables through metadata - https://voila.readthedocs.io/en/stable/customize.html\n",
    "#     It seems not to be working as dark theme is not appied\n"
   ]
  },
  {
   "cell_type": "code",
   "execution_count": 3,
   "metadata": {},
   "outputs": [],
   "source": [
    "# from voila.app import Voila, _, Dict\n",
    "\n",
    "# class CustomVoila(Voila):\n",
    "#   tornado_settings = Dict(\n",
    "#     {\n",
    "#       'websocket_max_message_size': 209715200\n",
    "#     },\n",
    "#     config=True,\n",
    "#     help=_(\n",
    "#         \"Extra settings to apply to tornado application, e.g. headers, ssl, etc\"\n",
    "#     ),\n",
    "#   )\n",
    "\n",
    "# app = CustomVoila()"
   ]
  },
  {
   "cell_type": "code",
   "execution_count": 17,
   "metadata": {},
   "outputs": [
    {
     "name": "stdout",
     "output_type": "stream",
     "text": [
      "{'websocket_max_message_size': 209715200}\n"
     ]
    }
   ],
   "source": [
    "# print(app.tornado_settings)"
   ]
  },
  {
   "cell_type": "code",
   "execution_count": 8,
   "metadata": {},
   "outputs": [],
   "source": [
    "# from ipyvuetify.extra import FileInput\n",
    "\n",
    "# class CustomFileInput(FileInput):\n",
    "#   def _file_info_changed(self, _):\n",
    "#     display(widgets.Text(value='on_data_change called', disabled=True))\n",
    "#     lbl_pred.value = ''\n",
    "#     #img = PILImage.create(btn_upload.data[-1])\n",
    "#     files = btn_upload.get_files()\n",
    "#     img = PILImage.create(files[-1])\n",
    "#     out_pl.clear_output()\n",
    "#     with out_pl: display(img.to_thumb(128,128))\n",
    "#     pred,pred_idx,probs = learn_inf.predict(img)\n",
    "#     lbl_pred.value = f'Prediction: {pred}; Probability: {probs[pred_idx]:.04f}'\n",
    "#     super()._file_info_changed(_)"
   ]
  },
  {
   "cell_type": "code",
   "execution_count": 4,
   "metadata": {},
   "outputs": [],
   "source": [
    "# path = Path()\n",
    "# learn_inf = load_learner(path/'export.pkl', cpu=True)\n"
   ]
  },
  {
   "cell_type": "code",
   "execution_count": null,
   "metadata": {},
   "outputs": [],
   "source": [
    "# btn_upload = widgets.FileUpload()\n",
    "# # btn_upload = CustomFileInput()\n",
    "# out_pl = widgets.Output()\n",
    "# lbl_pred = widgets.Label()"
   ]
  },
  {
   "cell_type": "code",
   "execution_count": 13,
   "metadata": {},
   "outputs": [
    {
     "data": {
      "application/vnd.jupyter.widget-view+json": {
       "model_id": "98baab72cc954cd19056d118b3069ef4",
       "version_major": 2,
       "version_minor": 0
      },
      "text/html": [
       "Cannot show widget. You probably want to rerun the code cell above (<i>Click in the code cell, and press Shift+Enter <kbd>⇧</kbd>+<kbd>↩</kbd></i>)."
      ],
      "text/plain": [
       "Cannot show ipywidgets in text"
      ]
     },
     "metadata": {},
     "output_type": "display_data"
    }
   ],
   "source": [
    "import solara\n",
    "import urllib.request\n",
    "\n",
    "MODEL_FILENAME = \"20231025_export.pkl\"\n",
    "MODEL_URL = \"https://s3.amazonaws.com/projects.aolchik/bear_classifier/\"+MODEL_FILENAME\n",
    "\n",
    "@solara.component\n",
    "def Page():\n",
    "    # adding some css\n",
    "    # solara.Style(\"\"\"\n",
    "    #     .add-button {\n",
    "    #         margin-right: 10px;\n",
    "    #     }\n",
    "    # \"\"\")\n",
    "    content, set_content = solara.use_state(b\"\")\n",
    "    filename, set_filename = solara.use_state(\"\")\n",
    "    size, set_size = solara.use_state(0)\n",
    "    status, set_status = solara.use_state(\"\")\n",
    "    prediction, set_prediction = solara.use_state(\"\")\n",
    "    path = Path()\n",
    "\n",
    "    def on_file(file):\n",
    "        set_filename(file[\"name\"])\n",
    "        set_size(file[\"size\"])\n",
    "        f = file[\"file_obj\"]\n",
    "        set_content(f.read())\n",
    "\n",
    "\n",
    "    def predict():\n",
    "        set_status(\"Checking if model is available...\")\n",
    "        if not (path/MODEL_FILENAME).exists():\n",
    "            set_status(f\"Downloading model {MODEL_FILENAME}...\")\n",
    "            urllib.request.urlretrieve(MODEL_URL, path/MODEL_FILENAME)\n",
    "\n",
    "        learn_inf = load_learner(Path(\".\")/MODEL_FILENAME, cpu=True)\n",
    "\n",
    "        img = PILImage.create(content)\n",
    "        pred,pred_idx,probs = learn_inf.predict(img)\n",
    "        set_prediction(f'Prediction: {pred}; Probability: {probs[pred_idx]:.04f}')\n",
    "        return True\n",
    "\n",
    "    with solara.Div(align=\"center\") as main:\n",
    "        with solara.Card(title=\"Select your bear\"):\n",
    "            solara.FileDrop(\n",
    "                on_file = on_file\n",
    "            )\n",
    "            if content:\n",
    "                solara.Info(f\"File {filename} has total length: {size}\\n, first 100 bytes:\")\n",
    "                solara.Image(content, format=filename.split(\".\")[-1])\n",
    "            \n",
    "                result: solara.Result[bool] = solara.use_thread(predict, dependencies=[content])\n",
    "\n",
    "                if result.state == solara.ResultState.FINISHED:\n",
    "                    if result.value:\n",
    "                        solara.Preformatted(prediction)\n",
    "                    else:\n",
    "                        solara.Error(f\"Could not predict successfully: {result.error} \")\n",
    "                elif result.state == solara.ResultState.ERROR:\n",
    "                    solara.Error(f\"Error occurred: {result.error}\")\n",
    "                else:\n",
    "                    solara.Info(f\"Running... ({status})\")\n",
    "                    solara.ProgressLinear(True)\n",
    "\n",
    "\n",
    "        \n",
    "\n",
    "    return main\n",
    "\n",
    "Page = Page()\n",
    "Page"
   ]
  },
  {
   "cell_type": "code",
   "execution_count": 4,
   "metadata": {},
   "outputs": [],
   "source": [
    "# files = btn_upload.get_files()\n",
    "# files[-1]"
   ]
  },
  {
   "cell_type": "code",
   "execution_count": 3,
   "metadata": {},
   "outputs": [],
   "source": [
    "# PILImage.create(files[-1]['file_obj'])"
   ]
  },
  {
   "cell_type": "code",
   "execution_count": 7,
   "metadata": {},
   "outputs": [],
   "source": [
    "# def on_data_change(change):\n",
    "#     display(widgets.Text(value='on_data_change called', disabled=True))\n",
    "#     lbl_pred.value = ''\n",
    "#     img = PILImage.create(btn_upload.data[-1])\n",
    "#     out_pl.clear_output()\n",
    "#     with out_pl: display(img.to_thumb(128,128))\n",
    "#     pred,pred_idx,probs = learn_inf.predict(img)\n",
    "#     lbl_pred.value = f'Prediction: {pred}; Probability: {probs[pred_idx]:.04f}'"
   ]
  },
  {
   "cell_type": "code",
   "execution_count": null,
   "metadata": {},
   "outputs": [],
   "source": [
    "#btn_upload.observe(on_data_change, names=['data'])"
   ]
  },
  {
   "cell_type": "code",
   "execution_count": null,
   "metadata": {},
   "outputs": [],
   "source": [
    "# display(VBox([widgets.Label('Select your bear!'), btn_upload, out_pl, lbl_pred]))"
   ]
  },
  {
   "cell_type": "code",
   "execution_count": 6,
   "metadata": {},
   "outputs": [
    {
     "data": {
      "text/plain": [
       "({'name': '2021-02-12 13.43.42.jpg',\n",
       "  'type': 'image/jpeg',\n",
       "  'size': 0,\n",
       "  'content': <memory at 0x15e187d00>,\n",
       "  'last_modified': datetime.datetime(2021, 2, 12, 16, 43, 43, tzinfo=datetime.timezone.utc)},)"
      ]
     },
     "execution_count": 6,
     "metadata": {},
     "output_type": "execute_result"
    }
   ],
   "source": [
    "# btn_upload.value\n",
    "# btn_upload.get_files()"
   ]
  }
 ],
 "metadata": {
  "jupytext": {
   "split_at_heading": true
  },
  "kernelspec": {
   "display_name": "Python 3 (ipykernel)",
   "language": "python",
   "name": "python3"
  },
  "language_info": {
   "codemirror_mode": {
    "name": "ipython",
    "version": 3
   },
   "file_extension": ".py",
   "mimetype": "text/x-python",
   "name": "python",
   "nbconvert_exporter": "python",
   "pygments_lexer": "ipython3",
   "version": "3.11.6"
  },
  "toc": {
   "base_numbering": 1,
   "nav_menu": {},
   "number_sections": false,
   "sideBar": true,
   "skip_h1_title": true,
   "title_cell": "Table of Contents",
   "title_sidebar": "Contents",
   "toc_cell": false,
   "toc_position": {},
   "toc_section_display": true,
   "toc_window_display": false
  }
 },
 "nbformat": 4,
 "nbformat_minor": 4
}
